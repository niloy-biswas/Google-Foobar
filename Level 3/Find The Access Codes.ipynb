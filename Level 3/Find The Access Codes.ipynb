{
 "cells": [
  {
   "cell_type": "markdown",
   "metadata": {},
   "source": [
    "# Find the Access Codes\n",
    "## Lebel - 3.2\n",
    "=====================\n",
    "\n",
    "In order to destroy Commander Lambda's LAMBCHOP doomsday device, you'll need access to it. But the only door leading to the LAMBCHOP chamber is secured with a unique lock system whose number of passcodes changes daily. Commander Lambda gets a report every day that includes the locks' access codes, but only the Commander knows how to figure out which of several lists contains the access codes. You need to find a way to determine which list contains the access codes once you're ready to go in. \n",
    "\n",
    "Fortunately, now that you're Commander Lambda's personal assistant, Lambda has confided to you that all the access codes are \"lucky triples\" in order to make it easier to find them in the lists. A \"lucky triple\" is a `tuple (x, y, z)` where `x divides y and y divides z`, such as `(1, 2, 4)`. With that information, you can figure out which list contains the number of access codes that matches the number of locks on the door when you're ready to go in (for example, if there's 5 passcodes, you'd need to find a list with 5 \"lucky triple\" access codes).\n",
    "\n",
    "Write a function solution(l) that takes a list of positive integers l and counts the number of \"lucky triples\" of (li, lj, lk) where the list indices meet the requirement `i < j < k`.  The length of l is between 2 and 2000 inclusive.  The elements of l are between 1 and 999999 inclusive.  The solution fits within a signed 32-bit integer. Some of the lists are purposely generated without any access codes to throw off spies, so if no triples are found, `return 0`. \n",
    "\n",
    "For example, `[1, 2, 3, 4, 5, 6]` has the triples: `[1, 2, 4], [1, 2, 6], [1, 3, 6]`, making the solution `3` total.\n",
    "\n",
    "### Languages\n",
    "=========\n",
    "\n",
    "To provide a Java solution, edit Solution.java <br>\n",
    "To provide a Python solution, edit solution.py <br>\n",
    "<br>\n",
    "\n",
    "### Test cases\n",
    "========== <br>\n",
    "Your code should pass the following test cases. <br>\n",
    "Note that it may also be run against hidden test cases not shown here. <br>\n",
    "<br>\n",
    "\n",
    "### -- Python cases --\n",
    "Input: <br>\n",
    "solution.solution([1, 2, 3, 4, 5, 6]) <br>\n",
    "Output: <br>\n",
    "       3\n",
    "<br>\n",
    "Input: <br>\n",
    "solution.solution([1, 1, 1]) <br>\n",
    "Output: <br>\n",
    "       1\n",
    "<br>\n",
    "Use verify [file] to test your solution and see how it does. When you are finished editing your code, <br>\n",
    "use submit [file] to submit your answer. If your solution passes the test cases, it will be removed from your home folder."
   ]
  },
  {
   "cell_type": "code",
   "execution_count": 24,
   "metadata": {},
   "outputs": [
    {
     "name": "stdout",
     "output_type": "stream",
     "text": [
      "0\n"
     ]
    }
   ],
   "source": [
    "# Successful in only 2 test case, other 3 failed.\n",
    "\n",
    "import itertools\n",
    "\n",
    "def solution(l):\n",
    "    if len(l) < 3:\n",
    "        return 0\n",
    "    all_triples = itertools.combinations(l, 3)\n",
    "    count = 0 \n",
    "    for i in all_triples:\n",
    "        if i[2] % i[1] == 0 and i[1] % i[0] == 0:\n",
    "            count += 1\n",
    "    return count\n",
    "\n",
    "print(solution([1, 2, 3]))"
   ]
  },
  {
   "cell_type": "code",
   "execution_count": 45,
   "metadata": {},
   "outputs": [
    {
     "name": "stdout",
     "output_type": "stream",
     "text": [
      "3\n"
     ]
    }
   ],
   "source": [
    "# Successful Submission -> using Dinamic Programming\n",
    "\n",
    "def solution(l):\n",
    "    if len(l) < 3: \n",
    "        return 0\n",
    "    c = [0] * len(l)\n",
    "    count = 0\n",
    "    for i in range(0,len(l)):\n",
    "        for j in range(0, i):\n",
    "            # print(i,j)\n",
    "            if l[i] % l[j] == 0:\n",
    "                # print(l[i], l[j])\n",
    "                c[i] = c[i] + 1\n",
    "                # print(c)\n",
    "                count = count + c[j]\n",
    "    return count\n",
    "\n",
    "print(solution([1, 2, 3, 4, 5, 6]))"
   ]
  },
  {
   "cell_type": "code",
   "execution_count": null,
   "metadata": {},
   "outputs": [],
   "source": []
  }
 ],
 "metadata": {
  "kernelspec": {
   "display_name": "Python 3.9.7 ('base')",
   "language": "python",
   "name": "python3"
  },
  "language_info": {
   "codemirror_mode": {
    "name": "ipython",
    "version": 3
   },
   "file_extension": ".py",
   "mimetype": "text/x-python",
   "name": "python",
   "nbconvert_exporter": "python",
   "pygments_lexer": "ipython3",
   "version": "3.9.7"
  },
  "orig_nbformat": 4,
  "vscode": {
   "interpreter": {
    "hash": "a83b07fc7377080e201c60ea037d54192de96a5e09eb5e8605a36b2cac14ab67"
   }
  }
 },
 "nbformat": 4,
 "nbformat_minor": 2
}
