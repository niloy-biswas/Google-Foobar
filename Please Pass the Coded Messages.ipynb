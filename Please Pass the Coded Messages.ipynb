{
 "cells": [
  {
   "cell_type": "markdown",
   "metadata": {},
   "source": [
    "## Please Pass the Coded Messages\n",
    "\n",
    "### Level 2.1\n",
    "==============================\n",
    "\n",
    "You need to pass a message to the bunny workers, but to avoid detection, the code you agreed to use is... obscure, to say the least. The bunnies are given food on standard-issue plates that are stamped with the numbers `0-9` for easier sorting, and you need to combine sets of plates to create the numbers in the code. The signal that a number is part of the code is that it is `divisible by 3`. You can do smaller numbers like 15 and 45 easily, but bigger numbers like 144 and 414 are a little trickier. Write a program to help yourself `quickly create large numbers` for use in the code, given a limited number of plates to work with.\n",
    "\n",
    "You have L, a list containing some digits `(0 to 9)`. Write a function solution(L) which `finds the largest number` that can be made from some or all of these digits and is `divisible by 3`. If it is not possible to make such a number, `return 0` as the solution. L will contain anywhere from 1 to 9 digits.  The same digit may appear multiple times in the list, but each element in the list may only be used once.\n",
    "\n",
    "### Languages\n",
    "=========\n",
    "\n",
    "To provide a Java solution, edit Solution.java\n",
    "To provide a Python solution, edit solution.py\n",
    "\n",
    "### Test cases <br>\n",
    "========== <br>\n",
    "\n",
    "Your code should pass the following test cases. <br>\n",
    "Note that it may also be run against hidden test cases not shown here.\n",
    "\n",
    "#### -- Java cases -- <br>\n",
    "Input: <br>\n",
    "Solution.solution({3, 1, 4, 1}) <br>\n",
    "Output: <br>\n",
    "        `4311` <br>\n",
    "\n",
    "Input: <br>\n",
    "Solution.solution({3, 1, 4, 1, 5, 9}) <br>\n",
    "Output: <br>\n",
    "        `94311`\n",
    "\n",
    "#### -- Python cases -- <br>\n",
    "Input: <br>\n",
    "solution.solution([3, 1, 4, 1]) <br>\n",
    "Output: <br>\n",
    "        `4311` <br>\n",
    "\n",
    "Input: <br>\n",
    "solution.solution([3, 1, 4, 1, 5, 9]) <br>\n",
    "Output: <br>\n",
    "    `94311` <br>\n",
    "\n",
    "Use `verify [file]` to test your solution and see how it does. When you are finished editing your code, use `submit [file]` to submit your answer. <br>\n",
    "If your solution passes the test cases, it will be removed from your home folder."
   ]
  },
  {
   "cell_type": "markdown",
   "metadata": {},
   "source": [
    "### For Solution in Python \n",
    "====== <br>\n",
    "Your code will run inside a Python 2.7.13 sandbox. All tests will be run by calling the solution() function.\n",
    "\n",
    "Standard libraries are supported except for bz2, crypt, fcntl, mmap, pwd, pyexpat, select, signal, termios, thread, time, unicodedata, zipimport, zlib.\n",
    "\n",
    "Input/output operations are not allowed.\n",
    "\n",
    "Your solution must be under 32000 characters in length including new lines and and other non-printing characters."
   ]
  },
  {
   "cell_type": "code",
   "execution_count": 31,
   "metadata": {},
   "outputs": [
    {
     "name": "stdout",
     "output_type": "stream",
     "text": [
      "13 [1, 2, 5, 5]\n",
      "13\n",
      "[1, 2, 5, 5]\n",
      "552\n",
      "184.0\n"
     ]
    }
   ],
   "source": [
    "# inputNumbers = [2, 1, 1, 1, 7, 8, 5, 7, 9, 3]\n",
    "inputNumbers = [2, 5, 1, 5]\n",
    "\n",
    "inputNumSorted = sorted(inputNumbers)\n",
    "sumMax = sum(inputNumbers)\n",
    "queue = [(sumMax, inputNumSorted)]\n",
    "# print(queue)\n",
    "# print(len(queue))\n",
    "found = False\n",
    "while (len(queue) > 0):\n",
    "    (sumCurrent, digitList) = queue.pop()\n",
    "\n",
    "    print(sumCurrent, digitList)\n",
    "    print(sumCurrent)\n",
    "    print(digitList)\n",
    "    remainder = sumCurrent%3\n",
    "\n",
    "    if (remainder == 0):\n",
    "        found = True\n",
    "        break\n",
    "    else :\n",
    "        for index, aNum in enumerate(digitList):\n",
    "            if(aNum%3 == remainder):\n",
    "                sumCurrent -= remainder\n",
    "                digitList.remove(aNum)\n",
    "                found = True\n",
    "                break\n",
    "            else:\n",
    "                newList = digitList[:index]+digitList[index+1:]\n",
    "                if (len(newList) > 0):\n",
    "                    queue.insert(0, (sumCurrent-aNum, newList))\n",
    "    if(found):\n",
    "        break\n",
    "\n",
    "maxNum = 0\n",
    "if (found):\n",
    "    for x,y in enumerate(digitList):\n",
    "        maxNum += (10**x)*y\n",
    "\n",
    "print(maxNum)\n",
    "print(maxNum/3)\n"
   ]
  },
  {
   "cell_type": "code",
   "execution_count": 7,
   "metadata": {},
   "outputs": [
    {
     "name": "stdout",
     "output_type": "stream",
     "text": [
      "94311\n"
     ]
    }
   ],
   "source": [
    "#Successful Submission\n",
    "\n",
    "from itertools import combinations\n",
    "\n",
    "def solution(l):\n",
    "\tl.sort(reverse = True)\n",
    "\tfor i in reversed(range(1, len(l) + 1)):\n",
    "\t\tfor tup in combinations(l, i):\n",
    "\t\t\tif sum(tup) % 3 == 0: \n",
    "\t\t\t\treturn int(''.join(map(str, tup)))\n",
    "\treturn 0\n",
    "\n",
    "# test \n",
    "\n",
    "inputNumbers = [3, 1, 4, 1, 5, 9]\n",
    "print(solution(inputNumbers))"
   ]
  },
  {
   "cell_type": "code",
   "execution_count": 2,
   "metadata": {},
   "outputs": [
    {
     "name": "stdout",
     "output_type": "stream",
     "text": [
      "552\n"
     ]
    }
   ],
   "source": [
    "digits = [2, 5, 1, 5]\n",
    "def solution(digits):\n",
    "    digits = sorted(digits)\n",
    "    # print(digits)\n",
    "    remainders = [i % 3 for i in digits]\n",
    "    # print(remainders)\n",
    "    while (remainder := sum(digits) % 3) and digits:\n",
    "        index = remainders.index(min(remainder, max(remainders)))\n",
    "        del digits[index]\n",
    "        del remainders[index]\n",
    "    return (int(''.join(str(i) for i in digits[::-1]) or 0))\n",
    "\n",
    "print(solution(digits))\n",
    "# print(int(''.join(str(i) for i in digits[::-1]) or 0))\n"
   ]
  },
  {
   "cell_type": "markdown",
   "metadata": {},
   "source": [
    "First note that all numbers divisible by three have digits whose sums are also divisible by three. This means that any permutation of digits will have the same value mod 3. Therefor, we start by sorting the digit list from low to high.\n",
    "\n",
    "Secondly, if the remainder of the sum of digits is nonzero, meaning the digits do not form a number divisible by three, we can use the remainder to find the digit we need to remove. Traversing the list from lowest to highest, we remove the first digit with the same remainder mod 3.\n",
    "\n",
    "The process is repeated until the remainder of the sum is zero. The list is then reversed, and the concatenated result is printed (or zero if the result is empty).\n",
    "\n",
    "Edit: code had a bug I missed at first.\n",
    "\n",
    "#### Psuedocode:\n",
    "\n",
    "*** \n",
    "sort digits <br>\n",
    "while sum of digits is not divisible by three: <br>\n",
    "    try: <br>\n",
    "        remove first digit of digits with the same value mod 3 as the sum <br>\n",
    "    except: <br>\n",
    "        remove first digit of digits with the a value mod 3 equal to 1 <br>\n",
    "<br> \n",
    "print result in descending order or zero if result is empty <br>\n",
    "***"
   ]
  },
  {
   "cell_type": "code",
   "execution_count": null,
   "metadata": {},
   "outputs": [],
   "source": []
  },
  {
   "cell_type": "code",
   "execution_count": null,
   "metadata": {},
   "outputs": [],
   "source": []
  }
 ],
 "metadata": {
  "kernelspec": {
   "display_name": "Python 3.9.6 64-bit",
   "language": "python",
   "name": "python3"
  },
  "language_info": {
   "codemirror_mode": {
    "name": "ipython",
    "version": 3
   },
   "file_extension": ".py",
   "mimetype": "text/x-python",
   "name": "python",
   "nbconvert_exporter": "python",
   "pygments_lexer": "ipython3",
   "version": "3.9.6"
  },
  "orig_nbformat": 4,
  "vscode": {
   "interpreter": {
    "hash": "31f2aee4e71d21fbe5cf8b01ff0e069b9275f58929596ceb00d14d90e3e16cd6"
   }
  }
 },
 "nbformat": 4,
 "nbformat_minor": 2
}
