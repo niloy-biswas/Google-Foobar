{
 "cells": [
  {
   "cell_type": "markdown",
   "metadata": {},
   "source": [
    "## Braille Translation\n",
    "===================\n",
    "\n",
    "Because Commander Lambda is an equal-opportunity despot, they have several visually-impaired minions. But Lambda never bothered to follow intergalactic standards for workplace accommodations, so those minions have a hard time navigating her space station. You figure printing out Braille signs will help them, and -- since you'll be promoting efficiency at the same time -- increase your chances of a promotion. \n",
    "\n",
    "Braille is a writing system used to read by touch instead of by sight. Each character is composed of 6 dots in a 2x3 grid, where each dot can either be a bump or be flat (no bump). You plan to translate the signs around the space station to Braille so that the minions under Commander Lambda's command can feel the bumps on the signs and \"read\" the text with their touch. The special printer which can print the bumps onto the signs expects the dots in the following order:\n",
    "\n",
    "`1 4` <br>\n",
    "`2 5` <br>\n",
    "`3 6` <br>\n",
    "\n",
    "So given the plain text word \"code\", you get the Braille dots:\n",
    "\n",
    "`11 10 11 10` <br>\n",
    "`00 01 01 01` <br>\n",
    "`00 10 00 00` <br>\n",
    "\n",
    "where 1 represents a bump and 0 represents no bump.  Put together, \"code\" becomes the output string `\"100100101010100110100010\".`\n",
    "\n",
    "Write a function solution(plaintext) that takes a string parameter and returns a string of 1's and 0's representing the bumps and absence of bumps in the input string. Your function should be able to encode the 26 lowercase letters, handle capital letters by adding a Braille capitalization mark before that character, and use a blank character (000000) for spaces. All signs on the space station are less than fifty characters long and use only letters and spaces.\n",
    "\n",
    "Languages\n",
    "=========\n",
    "\n",
    "To provide a Python solution, edit solution.py\n",
    "To provide a Java solution, edit Solution.java\n",
    "\n",
    "Test cases\n",
    "==========\n",
    "Your code should pass the following test cases.\n",
    "Note that it may also be run against hidden test cases not shown here.\n",
    "\n",
    "#### -- Python cases -- <br>\n",
    "Input: <br>\n",
    "solution.solution(\"code\") <br>\n",
    "Output: <br>\n",
    "        `100100101010100110100010`\n",
    "\n",
    "Input: <br>\n",
    "solution.solution(\"Braille\") <br>\n",
    "Output: <br>\n",
    "        `000001110000111010100000010100111000111000100010`\n",
    "\n",
    "Input: <br>\n",
    "solution.solution(\"The quick brown fox jumps over the lazy dog\") <br>\n",
    "Output: <br>\n",
    "        `000001011110110010100010000000111110101001010100100100101000000000110000111010101010010111101110000000110100101010101101000000010110101001101100111100011100000000101010111001100010111010000000011110110010100010000000111000100000101011101111000000100110101010110110`\n",
    "\n",
    "#### -- Java cases -- <br>\n",
    "Input: <br>\n",
    "Solution.solution(\"code\") <br>\n",
    "Output: <br>\n",
    "        `100100101010100110100010`\n",
    "\n",
    "Input: <br>\n",
    "Solution.solution(\"Braille\") <br>\n",
    "Output: <br>\n",
    "        `000001110000111010100000010100111000111000100010`\n",
    "\n",
    "Input: <br>\n",
    "Solution.solution(\"The quick brown fox jumps over the lazy dog\") <br>\n",
    "Output: <br>\n",
    "        `000001011110110010100010000000111110101001010100100100101000000000110000111010101010010111101110000000110100101010101101000000010110101001101100111100011100000000101010111001100010111010000000011110110010100010000000111000100000101011101111000000100110101010110110`\n",
    "\n",
    "Use `verify [file]` to test your solution and see how it does. When you are finished editing your code, use `submit [file]` to submit your answer. If your solution passes the test cases, it will be removed from your home folder.\n",
    "\n",
    "\n",
    "### Solution in Python <br>\n",
    "====== <br>\n",
    "Your code will run inside a Python 2.7.13 sandbox. All tests will be run by calling the solution() function. <br>\n",
    "\n",
    "Standard libraries are supported except for bz2, crypt, fcntl, mmap, pwd, pyexpat, select, signal, termios, thread, time, unicodedata, zipimport, zlib.\n",
    "\n",
    "Input/output operations are not allowed.\n",
    "\n",
    "Your solution must be under `32000` characters in length including new lines and and other non-printing characters.\n"
   ]
  },
  {
   "cell_type": "markdown",
   "metadata": {},
   "source": [
    "## Print ASCII Value"
   ]
  },
  {
   "cell_type": "code",
   "execution_count": 3,
   "metadata": {},
   "outputs": [
    {
     "name": "stdout",
     "output_type": "stream",
     "text": [
      "ASCII Value is: 99\n"
     ]
    }
   ],
   "source": [
    "text = \"c\"\n",
    "print(\"ASCII Value is:\", ord(text))"
   ]
  },
  {
   "cell_type": "code",
   "execution_count": 35,
   "metadata": {},
   "outputs": [
    {
     "name": "stdout",
     "output_type": "stream",
     "text": [
      "   -> 32\n"
     ]
    }
   ],
   "source": [
    "text = \" \"\n",
    "for i in text:\n",
    "    ascii = ord(i)\n",
    "    print(i, \" ->\", ord(i))\n",
    "\n",
    "\n",
    "# if text >= 'A' and text <= 'Z':\n",
    "#     diff = ord(text) - ord('A')\n",
    "#     print(diff)"
   ]
  },
  {
   "cell_type": "markdown",
   "metadata": {},
   "source": [
    "Braille for `\"code\"` is - <br>\n",
    "<br>\n",
    "`11 10 11 10` <br>\n",
    "`00 01 01 01` <br>\n",
    "`00 10 00 00` <br>\n",
    "<h1> ⠉⠕⠙⠑ </h1>\n",
    "<style>\n",
    "h1 {\n",
    "  font-size: 100px\n",
    "}\n",
    "</style>\n",
    "\n",
    "![alt text](braille.png \"Braille\")"
   ]
  },
  {
   "cell_type": "code",
   "execution_count": 9,
   "metadata": {},
   "outputs": [
    {
     "name": "stdout",
     "output_type": "stream",
     "text": [
      "100100101010100110100010\n",
      "000001110000111010100000010100111000111000100010\n"
     ]
    }
   ],
   "source": [
    "class Braille:\n",
    "    space = '000000'\n",
    "    upper = '000001'\n",
    "    alpha = [\n",
    "        '100000', # a\n",
    "        '110000', # b\n",
    "        '100100', # c\n",
    "        '100110', # d\n",
    "        '100010', # e\n",
    "        '110100', # f\n",
    "        '110110', # g\n",
    "        '110010', # h\n",
    "        '010100', # i\n",
    "        '010110', # j\n",
    "        '101000', # k\n",
    "        '111000', # l\n",
    "        '101100', # m\n",
    "        '101110', # n\n",
    "        '101010', # o\n",
    "        '111100', # p\n",
    "        '111110', # q\n",
    "        '111010', # r\n",
    "        '011100', # s\n",
    "        '011110', # t\n",
    "        '101001', # u\n",
    "        '111001', # v\n",
    "        '010111', # w\n",
    "        '101101', # x\n",
    "        '101111', # y\n",
    "        '101011', # z\n",
    "    ]\n",
    "\n",
    "    @staticmethod\n",
    "    def get_value(c: chr) -> str:\n",
    "        if c == ' ':\n",
    "            return Braille.space\n",
    "        diff = 0\n",
    "        s = ''\n",
    "        if c >= 'A' and c <= 'Z':\n",
    "            diff = ord(c) - ord('A')\n",
    "            s += Braille.upper\n",
    "        else:\n",
    "            diff = ord(c) - ord('a')\n",
    "        s += Braille.alpha[diff]\n",
    "        return s\n",
    "\n",
    "\n",
    "def solution(plaintext):\n",
    "    characters = list(plaintext.strip())\n",
    "    braille = [Braille.get_value(c) for c in characters]\n",
    "    return ''.join(braille)\n",
    "\n",
    "if __name__ == \"__main__\":\n",
    "    plaintext1 = \"code\"\n",
    "    print(solution(plaintext1))\n",
    "\n",
    "    plaintext2 = \"Braille\"\n",
    "    print(solution(plaintext2))"
   ]
  },
  {
   "cell_type": "markdown",
   "metadata": {},
   "source": [
    "## My Solution"
   ]
  },
  {
   "cell_type": "code",
   "execution_count": 53,
   "metadata": {},
   "outputs": [
    {
     "name": "stdout",
     "output_type": "stream",
     "text": [
      "100100101010100110100010\n"
     ]
    }
   ],
   "source": [
    "text = [' ', 'a','b','c','d','e','f','g','h','i','j','k','l','m','n','o','p','q','r','s','t','u','v','w','x','y','z']\n",
    "braille = [\n",
    "'000000',\n",
    "'100000',\n",
    "'110000',\n",
    "'100100',\n",
    "'100110',\n",
    "'100010',\n",
    "'110100',\n",
    "'110110',\n",
    "'110010',\n",
    "'010100',\n",
    "'010110',\n",
    "'101000',\n",
    "'111000',\n",
    "'101100',\n",
    "'101110',\n",
    "'101010',\n",
    "'111100',\n",
    "'111110',\n",
    "'111010',\n",
    "'011100',\n",
    "'011110',\n",
    "'101001',\n",
    "'111001',\n",
    "'010111',\n",
    "'101101',\n",
    "'101111',\n",
    "'101011']\n",
    "\n",
    "def solution(s):\n",
    "\tresult=\"\"\n",
    "\n",
    "\tfor i in range(0, len(s)):\n",
    "\t\tif s[i].isupper():\n",
    "\t\t\tresult=result + '000001'\n",
    "\t\t\t\n",
    "\t\tresult += braille[text.index(s[i].lower())]\n",
    "\t\t\n",
    "\treturn result\n",
    "\n",
    "#Test\n",
    "print(solution(\"code\"))\t\t\n",
    "\n"
   ]
  },
  {
   "cell_type": "code",
   "execution_count": null,
   "metadata": {},
   "outputs": [],
   "source": []
  }
 ],
 "metadata": {
  "kernelspec": {
   "display_name": "Python 3.9.7 ('base')",
   "language": "python",
   "name": "python3"
  },
  "language_info": {
   "codemirror_mode": {
    "name": "ipython",
    "version": 3
   },
   "file_extension": ".py",
   "mimetype": "text/x-python",
   "name": "python",
   "nbconvert_exporter": "python",
   "pygments_lexer": "ipython3",
   "version": "3.9.7"
  },
  "orig_nbformat": 4,
  "vscode": {
   "interpreter": {
    "hash": "a83b07fc7377080e201c60ea037d54192de96a5e09eb5e8605a36b2cac14ab67"
   }
  }
 },
 "nbformat": 4,
 "nbformat_minor": 2
}
