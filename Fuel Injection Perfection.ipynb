{
 "cells": [
  {
   "cell_type": "markdown",
   "metadata": {},
   "source": [
    "# Fuel Injection Perfection\n",
    "=========================\n",
    "\n",
    "Commander Lambda has asked for your help to refine the automatic quantum antimatter fuel injection system for the LAMBCHOP doomsday device. It's a great chance for you to get a closer look at the LAMBCHOP -- and maybe sneak in a bit of sabotage while you're at it -- so you took the job gladly. \n",
    "\n",
    "Quantum antimatter fuel comes in small pellets, which is convenient since the many moving parts of the LAMBCHOP each need to be fed fuel one pellet at a time. However, minions dump pellets in bulk into the fuel intake. You need to figure out the most efficient way to sort and shift the pellets down to a single pellet at a time. \n",
    "\n",
    "The fuel control mechanisms have three operations: \n",
    "\n",
    "1) Add one fuel pellet\n",
    "2) Remove one fuel pellet\n",
    "3) Divide the entire group of fuel pellets by 2 (due to the destructive energy released when a quantum antimatter pellet is cut in half, the safety controls will only allow this to happen if there is an even number of pellets)\n",
    "\n",
    "Write a function called solution(n) which takes a positive integer as a string and returns the minimum number of operations needed to transform the number of pellets to 1. The fuel intake control panel can only display a number up to `309 digits long`, so there won't ever be more pellets than you can express in that many digits.\n",
    "\n",
    "### For example:\n",
    "solution(4) returns 2: `4 -> 2 -> 1` <br>\n",
    "solution(15) returns 5: `15 -> 16 -> 8 -> 4 -> 2 -> 1` <br>\n",
    "Quantum antimatter fuel comes in small pellets, which is convenient since the many moving parts of the LAMBCHOP each need to be fed fuel one pellet at a time. However, minions dump pellets in bulk into the fuel intake. You need to figure out the most efficient way to sort and shift the pellets down to a single pellet at a time. <br>\n",
    "\n",
    "\n",
    "Languages\n",
    "=========\n",
    "\n",
    "To provide a Python solution, edit solution.py <br>\n",
    "To provide a Java solution, edit Solution.java <br>\n",
    "\n",
    "Test cases <br>\n",
    "==========\n",
    "Your code should pass the following test cases. <br>\n",
    "Note that it may also be run against hidden test cases not shown here. <br>\n",
    "\n",
    "### -- Python cases -- <br>\n",
    "Input: <br>\n",
    "solution.solution('15') <br>\n",
    "Output: <br>\n",
    "       5 <br>\n",
    "\n",
    "Input: <br>\n",
    "solution.solution('4') <br>\n",
    "Output: <br>\n",
    "       2 <br>\n",
    "\n",
    "\n",
    "Use verify [file] to test your solution and see how it does. When you are finished editing your code, <br>\n",
    "use submit [file] to submit your answer. If your solution passes the test cases, it will be removed from your home folder."
   ]
  },
  {
   "cell_type": "code",
   "execution_count": 10,
   "metadata": {},
   "outputs": [
    {
     "name": "stdout",
     "output_type": "stream",
     "text": [
      "6\n"
     ]
    }
   ],
   "source": [
    "# passed only 2 out of 10 test cases :P \n",
    "\n",
    "def solution(n):\n",
    "    n = int(n)\n",
    "    count = 0\n",
    "    while n > 1:\n",
    "        if n % 2 == 0:\n",
    "            n = n / 2\n",
    "            count += 1\n",
    "        elif (n-1) % 2 == 0:\n",
    "            n = n-1\n",
    "            count += 1\n",
    "        elif (n+1) % 2 == 0:\n",
    "            n = n+1\n",
    "            count += 1\n",
    "    \n",
    "    return count\n",
    "\n",
    "print(solution('15'))"
   ]
  },
  {
   "cell_type": "code",
   "execution_count": 14,
   "metadata": {},
   "outputs": [
    {
     "name": "stdout",
     "output_type": "stream",
     "text": [
      "8\n",
      "4\n",
      "2\n",
      "1\n",
      "5\n"
     ]
    }
   ],
   "source": [
    "def solution(n):\n",
    "    n = int(n)\n",
    "    i = 0\n",
    "    while n > 1:\n",
    "        if (n&1) == 0:\n",
    "            # print(n)\n",
    "            n >>= 1\n",
    "            print(n)\n",
    "        elif (n&3) == 1 or n == 3:\n",
    "            n -= 1\n",
    "        else:\n",
    "            n += 1\n",
    "        i += 1\n",
    "    return i\n",
    "\n",
    "print(solution('15'))"
   ]
  },
  {
   "cell_type": "code",
   "execution_count": 27,
   "metadata": {},
   "outputs": [
    {
     "name": "stdout",
     "output_type": "stream",
     "text": [
      "0\n"
     ]
    }
   ],
   "source": [
    "print(3&4)"
   ]
  },
  {
   "cell_type": "code",
   "execution_count": 39,
   "metadata": {},
   "outputs": [
    {
     "name": "stdout",
     "output_type": "stream",
     "text": [
      "17\n",
      "1\n",
      "n > 17 n%4 > 1\n",
      "16\n",
      "8.0\n",
      "4.0\n",
      "2.0\n",
      "5\n"
     ]
    }
   ],
   "source": [
    "\n",
    "def solution(n):\n",
    "    # count min number of add/subtract/halve operations to reach 1\n",
    "    n = int(n)\n",
    "    count = 0\n",
    "    while n > 1:\n",
    "        print(n)\n",
    "        if n % 2:  # odd\n",
    "            print(n%2)\n",
    "            if n % 4 == 1 or n == 3:\n",
    "                print(\"n >\",n,\"n%4 >\", n % 4)\n",
    "                n -= 1  # subtract is better\n",
    "            else:\n",
    "                n += 1  # otherwise add\n",
    "        else:  # even, halve\n",
    "            n /= 2\n",
    "        count += 1\n",
    "    return count\n",
    "\n",
    "print(solution('17'))"
   ]
  },
  {
   "cell_type": "code",
   "execution_count": 41,
   "metadata": {},
   "outputs": [
    {
     "name": "stdout",
     "output_type": "stream",
     "text": [
      "5\n"
     ]
    }
   ],
   "source": [
    "# Successful Submission\n",
    "def solution(n):\n",
    "    n = int(n)\n",
    "    count = 0\n",
    "    while n > 1:\n",
    "        if n % 2:\n",
    "            if n % 4 == 1 or n == 3:\n",
    "                n -= 1 \n",
    "            else:\n",
    "                n += 1\n",
    "        else:\n",
    "            n /= 2\n",
    "        count += 1\n",
    "    return count\n",
    "\n",
    "print(solution('15'))"
   ]
  },
  {
   "cell_type": "code",
   "execution_count": null,
   "metadata": {},
   "outputs": [],
   "source": []
  }
 ],
 "metadata": {
  "kernelspec": {
   "display_name": "Python 3.9.7 ('base')",
   "language": "python",
   "name": "python3"
  },
  "language_info": {
   "codemirror_mode": {
    "name": "ipython",
    "version": 3
   },
   "file_extension": ".py",
   "mimetype": "text/x-python",
   "name": "python",
   "nbconvert_exporter": "python",
   "pygments_lexer": "ipython3",
   "version": "3.9.7"
  },
  "orig_nbformat": 4,
  "vscode": {
   "interpreter": {
    "hash": "a83b07fc7377080e201c60ea037d54192de96a5e09eb5e8605a36b2cac14ab67"
   }
  }
 },
 "nbformat": 4,
 "nbformat_minor": 2
}
