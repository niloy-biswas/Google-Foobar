{
 "cells": [
  {
   "cell_type": "markdown",
   "metadata": {},
   "source": [
    "Running with Bunnies\n",
    "====================\n",
    "\n",
    "You and the bunny workers need to get out of this collapsing death trap of a space station -- and fast! Unfortunately, some of the bunnies have been weakened by their long work shifts and can't run very fast. Their friends are trying to help them, but this escape would go a lot faster if you also pitched in. The defensive bulkhead doors have begun to close, and if you don't make it through in time, you'll be trapped! You need to grab as many bunnies as you can and get through the bulkheads before they close. \n",
    "\n",
    "The time it takes to move from your starting point to all of the bunnies and to the bulkhead will be given to you in a square matrix of integers. Each row will tell you the time it takes to get to the start, first bunny, second bunny, ..., last bunny, and the bulkhead in that order. The order of the rows follows the same pattern (start, each bunny, bulkhead). The bunnies can jump into your arms, so picking them up is instantaneous, and arriving at the bulkhead at the same time as it seals still allows for a successful, if dramatic, escape. (Don't worry, any bunnies you don't pick up will be able to escape with you since they no longer have to carry the ones you did pick up.) You can revisit different spots if you wish, and moving to the bulkhead doesn't mean you have to immediately leave -- you can move to and from the bulkhead to pick up additional bunnies if time permits.\n",
    "\n",
    "In addition to spending time traveling between bunnies, some paths interact with the space station's security checkpoints and add time back to the clock. Adding time to the clock will delay the closing of the bulkhead doors, and if the time goes back up to 0 or a positive number after the doors have already closed, it triggers the bulkhead to reopen. Therefore, it might be possible to walk in a circle and keep gaining time: that is, each time a path is traversed, the same amount of time is used or added.\n",
    "\n",
    "Write a function of the form solution(times, time_limit) to calculate the most bunnies you can pick up and which bunnies they are, while still escaping through the bulkhead before the doors close for good. If there are multiple sets of bunnies of the same size, return the set of bunnies with the lowest worker IDs (as indexes) in sorted order. The bunnies are represented as a sorted list by worker ID, with the first bunny being 0. There are at most 5 bunnies, and time_limit is a non-negative integer that is at most 999.\n",
    "\n",
    "For instance, in the case of <br>\n",
    "`[` <br>\n",
    "` [0, 2, 2, 2, -1]`,    # 0 = Start <br>\n",
    "`  [9, 0, 2, 2, -1]`,   # 1 = Bunny 0 <br>\n",
    "`  [9, 3, 0, 2, -1]`,   # 2 = Bunny 1 <br>\n",
    "`  [9, 3, 2, 0, -1]`,   # 3 = Bunny 2 <br>\n",
    "` [9, 3, 2, 2,  0]`,    # 4 = Bulkhead <br>\n",
    "`]` <br>\n",
    "<br>\n",
    "and a time limit of 1, the five inner array rows designate the starting point, bunny 0, bunny 1, bunny 2, and the bulkhead door exit respectively. You could take the path:\n",
    "<br>\n",
    "\n",
    "| Start | End | Delta | Time | Status |\n",
    "|-------|-----|-------|------|--------|\n",
    "|    -  | 0   |  -    |   1  |Bulkhead initially open| \n",
    "|    0  | 4   | -1    |   2 |\n",
    "|    4  | 2   |  2    |   0 |\n",
    "|    2  | 4   | -1    |   1 |\n",
    "|    4  | 3   |  2    |   -1 |Bulkhead closes| \n",
    "|    3  | 4   | -1    |   0  |Bulkhead reopens; you and the bunnies exit| \n",
    "\n",
    "\n",
    "With this solution, you would pick up bunnies 1 and 2. This is the best combination for this space station hallway, so the solution is [1, 2].<br>\n",
    "\n",
    "Languages\n",
    "=========\n",
    "<br>\n",
    "To provide a Java solution, edit Solution.javaTo provide a Python solution, edit solution.py <br>\n",
    "\n",
    "Test cases <br>\n",
    "========== <br>\n",
    "Your code should pass the following test cases. <br>\n",
    "Note that it may also be run against hidden test cases not shown here. <br>\n",
    "\n",
    "### -- Python cases -- <br>\n",
    "Input: <br>\n",
    "solution.solution([[0, 2, 2, 2, -1], [9, 0, 2, 2, -1], [9, 3, 0, 2, -1], [9, 3, 2, 0, -1], [9, 3, 2, 2, 0]], 1) <br>\n",
    "Output: <br>\n",
    "    [1, 2] <br>\n",
    " <br>\n",
    "Input: <br>\n",
    "solution.solution([[0, 1, 1, 1, 1], [1, 0, 1, 1, 1], [1, 1, 0, 1, 1], [1, 1, 1, 0, 1], [1, 1, 1, 1, 0]], 3) <br>\n",
    "Output: <br>\n",
    "    [0, 1] <br>\n",
    "\n",
    "<br>\n",
    "Use verify [file] to test your solution and see how it does. When you are finished editing your code, <br>\n",
    "use submit [file] to submit your answer. If your solution passes the test cases, it will be removed from your home folder."
   ]
  },
  {
   "cell_type": "code",
   "execution_count": 6,
   "metadata": {},
   "outputs": [
    {
     "name": "stdout",
     "output_type": "stream",
     "text": [
      "[0, 1]\n"
     ]
    }
   ],
   "source": [
    "from itertools import permutations\n",
    "\n",
    "def convert_to_path(perm):\n",
    "    perm = list(perm)\n",
    "    perm = [0] + perm + [-1]\n",
    "    path = list()\n",
    "    for i in range(1, len(perm)):\n",
    "        path.append((perm[i - 1], perm[i]))\n",
    "    return path\n",
    "\n",
    "def solution(times, time_limit):\n",
    "    rows = len(times)\n",
    "    bunnies = rows - 2\n",
    "\n",
    "    for k in range(rows):\n",
    "        for i in range(rows):\n",
    "            for j in range(rows):\n",
    "                if times[i][j] > times[i][k] + times[k][j]:\n",
    "                    times[i][j] = times[i][k] + times[k][j]\n",
    "\n",
    "    for r in range(rows):\n",
    "        if times[r][r] < 0:\n",
    "            return [i for i in range(bunnies)]\n",
    "\n",
    "    for i in reversed(range(bunnies + 1)):\n",
    "        for perm in permutations(range(1, bunnies + 1), i):\n",
    "            total_time = 0\n",
    "            path = convert_to_path(perm)\n",
    "            for start, end in path:\n",
    "                total_time += times[start][end]\n",
    "            if total_time <= time_limit:\n",
    "                return sorted(list(i - 1 for i in perm))\n",
    "    return None\n",
    "\n",
    "\n",
    "print(solution([[0, 1, 1, 1, 1], [1, 0, 1, 1, 1], [1, 1, 0, 1, 1], [1, 1, 1, 0, 1], [1, 1, 1, 1, 0]], 3))\n"
   ]
  },
  {
   "cell_type": "code",
   "execution_count": null,
   "metadata": {},
   "outputs": [],
   "source": []
  }
 ],
 "metadata": {
  "kernelspec": {
   "display_name": "Python 3.9.7 ('base')",
   "language": "python",
   "name": "python3"
  },
  "language_info": {
   "codemirror_mode": {
    "name": "ipython",
    "version": 3
   },
   "file_extension": ".py",
   "mimetype": "text/x-python",
   "name": "python",
   "nbconvert_exporter": "python",
   "pygments_lexer": "ipython3",
   "version": "3.9.7"
  },
  "orig_nbformat": 4,
  "vscode": {
   "interpreter": {
    "hash": "a83b07fc7377080e201c60ea037d54192de96a5e09eb5e8605a36b2cac14ab67"
   }
  }
 },
 "nbformat": 4,
 "nbformat_minor": 2
}
