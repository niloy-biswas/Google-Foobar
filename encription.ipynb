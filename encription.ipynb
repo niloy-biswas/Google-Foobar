{
 "cells": [
  {
   "cell_type": "code",
   "execution_count": 1,
   "metadata": {},
   "outputs": [
    {
     "name": "stdout",
     "output_type": "stream",
     "text": [
      "{'success' : 'great', 'colleague' : 'esteemed', 'efforts' : 'incredible', 'achievement' : 'unlocked', 'rabbits' : 'safe', 'foo' : 'win!'}\n"
     ]
    }
   ],
   "source": [
    "import base64\n",
    "\n",
    "#The encrypted key\n",
    "message='FU4fGhpNFgQWSUlWT15JARIEGk5AT15NHBsJCwgLGhwJU01FSQwfGxxLHhIBSUVMSBxIFRgXGhpL T0MOVB4LDRsJCxBMHxJCQklLDhpGGhITCwQJAQ0JU01FSRwCAxZNGBIBSUVMSAtPERUMGhpLT0MO VAQECAxLQ1kJFRgKSUlWT15ZGhlESRQ='\n",
    "\n",
    "#Your Google username\n",
    "key='niloy.swe'\n",
    "\n",
    "decrypted_message=[]\n",
    "\n",
    "#decode the key to base64 bytes\n",
    "dec_bytes=base64.b64decode(message)\n",
    "\n",
    "#XOR with Username\n",
    "for a,b in enumerate(dec_bytes):\n",
    "    decrypted_message.append(chr(b ^ ord(key[a%len(key)])))\n",
    "\n",
    "#The encypted message\n",
    "print(\"\".join(decrypted_message))"
   ]
  },
  {
   "cell_type": "code",
   "execution_count": 5,
   "metadata": {},
   "outputs": [
    {
     "name": "stdout",
     "output_type": "stream",
     "text": [
      "4\n"
     ]
    }
   ],
   "source": [
    "L = [1, 2, 3]\n",
    "total = 0\n",
    "for i in range(len(L)):\n",
    "    if i%2 == 0:  # if this is an odd index\n",
    "        total += L[i]\n",
    "\n",
    "print(total)"
   ]
  },
  {
   "cell_type": "code",
   "execution_count": 6,
   "metadata": {},
   "outputs": [
    {
     "data": {
      "text/plain": [
       "2"
      ]
     },
     "execution_count": 6,
     "metadata": {},
     "output_type": "execute_result"
    }
   ],
   "source": [
    "lst = [1,3,2,3,2,2,2]\n",
    "max(set(lst), key=lst.count)"
   ]
  },
  {
   "cell_type": "code",
   "execution_count": 18,
   "metadata": {},
   "outputs": [
    {
     "name": "stdout",
     "output_type": "stream",
     "text": [
      "0\n"
     ]
    }
   ],
   "source": [
    "def findMinDifference(t):\n",
    "    tab=[]\n",
    "    for i in t:\n",
    "        tab.append(int(i[0:2])*60+int(i[3:]))\n",
    "    tab.sort()\n",
    "    n=len(tab)\n",
    "    res=1440+tab[0]-tab[n-1]\n",
    "    for i in range(1,n):\n",
    "        res=min(res,(tab[i]-tab[i-1]))\n",
    "    return res    \n",
    "\n",
    "print(findMinDifference([\"00:00\",\"23:59\",\"00:00\"]))"
   ]
  },
  {
   "cell_type": "code",
   "execution_count": null,
   "metadata": {},
   "outputs": [],
   "source": []
  }
 ],
 "metadata": {
  "kernelspec": {
   "display_name": "Python 3.9.7 ('base')",
   "language": "python",
   "name": "python3"
  },
  "language_info": {
   "codemirror_mode": {
    "name": "ipython",
    "version": 3
   },
   "file_extension": ".py",
   "mimetype": "text/x-python",
   "name": "python",
   "nbconvert_exporter": "python",
   "pygments_lexer": "ipython3",
   "version": "3.9.7"
  },
  "orig_nbformat": 4,
  "vscode": {
   "interpreter": {
    "hash": "a83b07fc7377080e201c60ea037d54192de96a5e09eb5e8605a36b2cac14ab67"
   }
  }
 },
 "nbformat": 4,
 "nbformat_minor": 2
}
