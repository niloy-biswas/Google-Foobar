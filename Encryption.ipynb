{
 "cells": [
  {
   "cell_type": "markdown",
   "metadata": {},
   "source": [
    "# Successfully Completed the challenge "
   ]
  },
  {
   "cell_type": "code",
   "execution_count": 1,
   "metadata": {},
   "outputs": [
    {
     "name": "stdout",
     "output_type": "stream",
     "text": [
      "{'success' : 'great', 'colleague' : 'esteemed', 'efforts' : 'incredible', 'achievement' : 'unlocked', 'rabbits' : 'safe', 'foo' : 'win!'}\n"
     ]
    }
   ],
   "source": [
    "import base64\n",
    "\n",
    "#The encrypted key\n",
    "message='FU4fGhpNFgQWSUlWT15JARIEGk5AT15NHBsJCwgLGhwJU01FSQwfGxxLHhIBSUVMSBxIFRgXGhpL T0MOVB4LDRsJCxBMHxJCQklLDhpGGhITCwQJAQ0JU01FSRwCAxZNGBIBSUVMSAtPERUMGhpLT0MO VAQECAxLQ1kJFRgKSUlWT15ZGhlESRQ='\n",
    "\n",
    "#Your Google username\n",
    "key='niloy.swe'\n",
    "\n",
    "decrypted_message=[]\n",
    "\n",
    "#decode the key to base64 bytes\n",
    "dec_bytes=base64.b64decode(message)\n",
    "\n",
    "#XOR with Username\n",
    "for a,b in enumerate(dec_bytes):\n",
    "    decrypted_message.append(chr(b ^ ord(key[a%len(key)])))\n",
    "\n",
    "#The encypted message\n",
    "print(\"\".join(decrypted_message))"
   ]
  },
  {
   "cell_type": "markdown",
   "metadata": {},
   "source": []
  }
 ],
 "metadata": {
  "kernelspec": {
   "display_name": "Python 3.9.7 ('base')",
   "language": "python",
   "name": "python3"
  },
  "language_info": {
   "codemirror_mode": {
    "name": "ipython",
    "version": 3
   },
   "file_extension": ".py",
   "mimetype": "text/x-python",
   "name": "python",
   "nbconvert_exporter": "python",
   "pygments_lexer": "ipython3",
   "version": "3.9.7"
  },
  "orig_nbformat": 4,
  "vscode": {
   "interpreter": {
    "hash": "a83b07fc7377080e201c60ea037d54192de96a5e09eb5e8605a36b2cac14ab67"
   }
  }
 },
 "nbformat": 4,
 "nbformat_minor": 2
}
