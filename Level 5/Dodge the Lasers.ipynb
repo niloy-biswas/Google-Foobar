{
 "cells": [
  {
   "cell_type": "markdown",
   "metadata": {},
   "source": [
    "Dodge the Lasers!\n",
    "=================\n",
    "### Lebel - 5\n",
    "\n",
    "Oh no! You've managed to escape Commander Lambda's collapsing space station in an escape pod with the rescued bunny workers - but Commander Lambda isnt about to let you get away that easily. Lambda sent an elite fighter pilot squadron after you -- and they've opened fire!\n",
    "\n",
    "Fortunately, you know something important about the ships trying to shoot you down. Back when you were still Lambda's assistant, the Commander asked you to help program the aiming mechanisms for the starfighters. They undergo rigorous testing procedures, but you were still able to slip in a subtle bug. The software works as a time step simulation: if it is tracking a target that is accelerating away at 45 degrees, the software will consider the targets acceleration to be equal to the square root of 2, adding the calculated result to the targets end velocity at each timestep. However, thanks to your bug, instead of storing the result with proper precision, it will be truncated to an integer before adding the new velocity to your current position.  This means that instead of having your correct position, the targeting software will erringly report your position as sum(i=1..n, floor(i*sqrt(2))) - not far enough off to fail Commander Lambdas testing, but enough that it might just save your life.\n",
    "\n",
    "If you can quickly calculate the target of the starfighters' laser beams to know how far off they'll be, you can trick them into shooting an asteroid, releasing dust, and concealing the rest of your escape.  Write a function solution(str_n) which, given the string representation of an integer n, returns the sum of (floor(1*sqrt(2)) + floor(2*sqrt(2)) + ... + floor(n*sqrt(2))) as a string. That is, for every number i in the range 1 to n, it adds up all of the integer portions of i*sqrt(2).\n",
    "\n",
    "For example, if str_n was \"5\", the solution would be calculated as <br>\n",
    "`floor(1*sqrt(2)) +` <br>\n",
    "`floor(2*sqrt(2)) +` <br>\n",
    "`floor(3*sqrt(2)) +` <br>\n",
    "`floor(4*sqrt(2)) +` <br>\n",
    "`floor(5*sqrt(2))` <br>\n",
    "= 1+2+4+5+7 = 19 <br>\n",
    "so the function would return \"19\". <br>\n",
    "<br>\n",
    "str_n will be a positive integer between 1 and 10^100, inclusive. Since n can be very large `(up to 101 digits!)`, using just `sqrt(2) and a loop won't work.` Sometimes, it's easier to take a step back and concentrate not on what you have in front of you, but on what you don't.\n",
    "\n",
    "Languages\n",
    "=========\n",
    "\n",
    "To provide a Java solution, edit Solution.java\n",
    "To provide a Python solution, edit solution.py\n",
    "\n",
    "Test cases\n",
    "==========\n",
    "Your code should pass the following test cases.\n",
    "Note that it may also be run against hidden test cases not shown here.\n",
    "\n",
    "### -- Python cases -- <br>\n",
    "Input: <br>\n",
    "solution.solution('77') <br>\n",
    "Output: <br>\n",
    "        4208 <br>\n",
    "<br>\n",
    "Input: <br>\n",
    "solution.solution('5') <br>\n",
    "Output: <br>\n",
    "        19 <br>\n",
    "<br>\n",
    "Use verify [file] to test your solution and see how it does. When you are finished editing your code, <br>\n",
    "use submit [file] to submit your answer. If your solution passes the test cases, it will be removed from your home folder."
   ]
  },
  {
   "cell_type": "code",
   "execution_count": 32,
   "metadata": {},
   "outputs": [
    {
     "name": "stdout",
     "output_type": "stream",
     "text": [
      "19\n"
     ]
    }
   ],
   "source": [
    "from math import floor \n",
    "\n",
    "def solution(s):\n",
    "    s = int(s)\n",
    "    ans = 0\n",
    "    i = 1\n",
    "    sq2 = 1.4142135623\n",
    "    while i <= s:\n",
    "        ans += floor(i * sq2)\n",
    "        i+=1 \n",
    "    return str(ans) \n",
    "\n",
    "print(solution('5'))"
   ]
  },
  {
   "cell_type": "code",
   "execution_count": 9,
   "metadata": {},
   "outputs": [
    {
     "name": "stdout",
     "output_type": "stream",
     "text": [
      "19\n"
     ]
    }
   ],
   "source": [
    "from __future__ import print_function\n",
    "import math\n",
    "\n",
    "\n",
    "def S(n):\n",
    "    if n == 0:\n",
    "        return 0\n",
    "    nn = int(math.floor((math.sqrt(2) - 1) * n))\n",
    "    return n * nn + (n * (n + 1)) // 2 - (nn * (nn + 1)) // 2 - S(nn)\n",
    "\n",
    "\n",
    "def solution(s):\n",
    "    return S(int(s))\n",
    "\n",
    "print(solution('5'))"
   ]
  },
  {
   "cell_type": "code",
   "execution_count": 17,
   "metadata": {},
   "outputs": [
    {
     "name": "stdout",
     "output_type": "stream",
     "text": [
      "19\n"
     ]
    }
   ],
   "source": [
    "#in Use\n",
    "\n",
    "from __future__ import print_function\n",
    "from math import floor, sqrt\n",
    "\n",
    "def calculation(n):\n",
    "    if n == 0:\n",
    "        return 0\n",
    "\n",
    "    ans = int(floor((sqrt(2) - 1) * n))\n",
    "    return n * ans + (n * (n + 1)) // 2 - (ans * (ans + 1)) // 2 - calculation(ans)\n",
    "\n",
    "\n",
    "def solution(s):\n",
    "    return calculation(int(s))\n",
    "\n",
    "print(solution('5'))"
   ]
  },
  {
   "cell_type": "code",
   "execution_count": 10,
   "metadata": {},
   "outputs": [
    {
     "name": "stdout",
     "output_type": "stream",
     "text": [
      "19\n"
     ]
    }
   ],
   "source": [
    "minus_sqrt2 = 4142135623730950488016887242096980785696718753769480731766797379907324784621070388503875343276415727\n",
    "\n",
    "def n1(n):\n",
    "    return (minus_sqrt2*n)//(10**100)\n",
    "\n",
    "def s(n):\n",
    "    if n == 1:\n",
    "        return 1\n",
    "        \n",
    "    if n < 1:\n",
    "        return 0\n",
    "    return n*n1(n) + n*(n+1)/2 - n1(n)*(n1(n)+1)/2 - s(n1(n))\n",
    "\n",
    "def answer(n):\n",
    "    n = long(n)\n",
    "    return str(s(n))\n",
    "\n",
    "print(solution('5'))"
   ]
  },
  {
   "cell_type": "code",
   "execution_count": 33,
   "metadata": {},
   "outputs": [
    {
     "name": "stdout",
     "output_type": "stream",
     "text": [
      "1.41421356237309504880168872420969807856967187537694807317667973799073247846210703885038753432764157274 5\n",
      "7 3.41421356237309504880168872420969807856967187537694807317667973799073247846210703885038753432764157274\n",
      "2\n",
      "1.41421356237309504880168872420969807856967187537694807317667973799073247846210703885038753432764157274 2\n",
      "2 3.41421356237309504880168872420969807856967187537694807317667973799073247846210703885038753432764157274\n",
      "0\n",
      "19\n"
     ]
    }
   ],
   "source": [
    "# Beatty sequence\n",
    "\n",
    "from decimal import Decimal, localcontext\n",
    "\n",
    "def solution(s):\n",
    "    n = Decimal(s)\n",
    "    # print(n)\n",
    "\n",
    "    with localcontext() as ctx:\n",
    "        ctx.prec = 102\n",
    "        sqr2 = Decimal(2).sqrt()\n",
    "        # print(sqr2)\n",
    "        sqr2p = Decimal(2) + Decimal(2).sqrt()\n",
    "        # print(sqr2p)\n",
    "        def solve(n):\n",
    "            if n == 0:\n",
    "                return 0\n",
    "            print(sqr2, n)\n",
    "            bet = int(sqr2 * n)\n",
    "            print(Decimal(bet), sqr2p)\n",
    "            betty = int(Decimal(bet) / sqr2p)\n",
    "            print(betty)\n",
    "\n",
    "            return (bet * (bet + 1)) / 2 - solve(betty) - betty * (betty + 1)\n",
    "\n",
    "        return str(int(solve(n)))\n",
    "\n",
    "print(solution('5'))"
   ]
  },
  {
   "cell_type": "code",
   "execution_count": 1,
   "metadata": {},
   "outputs": [
    {
     "name": "stdout",
     "output_type": "stream",
     "text": [
      "19\n"
     ]
    }
   ],
   "source": [
    "#Successful Submission\n",
    "from decimal import Decimal, localcontext\n",
    "\n",
    "def solution(s):\n",
    "    n = Decimal(s)\n",
    "    with localcontext() as ctx:\n",
    "        ctx.prec = 102\n",
    "        sqr2 = Decimal(2).sqrt()\n",
    "        sqr2p = Decimal(2) + Decimal(2).sqrt()\n",
    "\n",
    "        def solve(n):\n",
    "            if n == 0:\n",
    "                return 0\n",
    "            bet = int(sqr2 * n)\n",
    "            betty = int(Decimal(bet) / sqr2p)\n",
    "            return (bet * (bet + 1)) / 2 - solve(betty) - betty * (betty + 1)\n",
    "\n",
    "        return str(int(solve(n)))\n",
    "\n",
    "print(solution('5'))"
   ]
  },
  {
   "cell_type": "code",
   "execution_count": null,
   "metadata": {},
   "outputs": [],
   "source": []
  }
 ],
 "metadata": {
  "kernelspec": {
   "display_name": "Python 3.9.7 ('base')",
   "language": "python",
   "name": "python3"
  },
  "language_info": {
   "codemirror_mode": {
    "name": "ipython",
    "version": 3
   },
   "file_extension": ".py",
   "mimetype": "text/x-python",
   "name": "python",
   "nbconvert_exporter": "python",
   "pygments_lexer": "ipython3",
   "version": "3.9.7"
  },
  "orig_nbformat": 4,
  "vscode": {
   "interpreter": {
    "hash": "a83b07fc7377080e201c60ea037d54192de96a5e09eb5e8605a36b2cac14ab67"
   }
  }
 },
 "nbformat": 4,
 "nbformat_minor": 2
}
